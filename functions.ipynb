{
 "cells": [
  {
   "cell_type": "code",
   "execution_count": 1,
   "id": "aa59b690-6a98-4cc4-b7ea-3085b5b7a2d1",
   "metadata": {},
   "outputs": [],
   "source": [
    "from bs4 import BeautifulSoup\n",
    "import requests\n",
    "import pandas as pd"
   ]
  },
  {
   "cell_type": "code",
   "execution_count": 2,
   "id": "05db555c-261e-4d88-80ee-bd09f6d3986d",
   "metadata": {},
   "outputs": [],
   "source": [
    "page = requests.get(\"https://www.bcm.mr/historique-change.html\")\n",
    "soup = BeautifulSoup(page.content , 'html.parser')"
   ]
  },
  {
   "cell_type": "code",
   "execution_count": 14,
   "id": "da622162-2c66-4101-8f99-7ff0e16ad74f",
   "metadata": {},
   "outputs": [],
   "source": [
    "def get_link(a):\n",
    "    link = \"https://www.bcm.mr\" + a\n",
    "    return link "
   ]
  },
  {
   "cell_type": "code",
   "execution_count": 4,
   "id": "a0d1b1c8-e8e4-478d-8639-bd05bfa4d54f",
   "metadata": {},
   "outputs": [],
   "source": [
    "def get_xrate_day(page_link):\n",
    "    page = requests.get(page_link)\n",
    "    soup = BeautifulSoup(page.content, 'html.parser')\n",
    "    div_box = soup.find_all('div', class_='templatemo_boxc')\n",
    "    div_box[0].find('h2').text\n",
    "    table = div_box[0].find_all('div', class_='rTable')[0].find_all('div', class_='rTableRow')\n",
    "    listd=[]\n",
    "    for x in table:\n",
    "        d={}\n",
    "        d[\"date\"] =  div_box[0].find('h2').text.split(\" \")[4]\n",
    "        #div_box[0].find('h2').text.split(\" \")[8]\n",
    "        tmp = x.find_all('div', class_='rTableCellc')\n",
    "        if (len(tmp) == 2):\n",
    "            d['quantity'] = tmp[0].text\n",
    "            cur_code = tmp[1].text\n",
    "            tmp = x.find_all('div', class_='rTableCellca')\n",
    "            if (len(tmp) == 2):\n",
    "                buy_price = tmp[0].text\n",
    "                sell_price = tmp[1].text\n",
    "                d['currency']=cur_code\n",
    "                d['buy']=buy_price\n",
    "                d['sell']=sell_price\n",
    "                listd.append(d)\n",
    "    return pd.DataFrame(listd)"
   ]
  },
  {
   "cell_type": "code",
   "execution_count": 5,
   "id": "6bca5da1-a6a4-49e5-b45e-27c4e1b9b92e",
   "metadata": {},
   "outputs": [],
   "source": [
    "def get_changes(link) :\n",
    "    page = requests.get(link)\n",
    "    soup = BeautifulSoup(page.content , 'html.parser') \n",
    "    vm =list( map(lambda x : x.get('href') , soup.find_all('a' , href = True )))\n",
    "    change_pages =  list(filter(lambda x : x.startswith(\"/cours-change.html?\"),vm))\n",
    "    return change_pages"
   ]
  },
  {
   "cell_type": "code",
   "execution_count": 7,
   "id": "43e9e21c-3cc1-4cce-ab50-67f3b1f7b35d",
   "metadata": {},
   "outputs": [],
   "source": [
    "changes = get_changes(\"https://www.bcm.mr/historique-change.html\")"
   ]
  },
  {
   "cell_type": "code",
   "execution_count": 16,
   "id": "fb72912e-60f4-4f3d-85cc-494cb03bc124",
   "metadata": {},
   "outputs": [],
   "source": [
    "list_changes = list(map(get_link,changes ))"
   ]
  },
  {
   "cell_type": "code",
   "execution_count": 23,
   "id": "84737deb-e1d8-4503-9167-bf8510583afb",
   "metadata": {},
   "outputs": [
    {
     "data": {
      "text/html": [
       "<div>\n",
       "<style scoped>\n",
       "    .dataframe tbody tr th:only-of-type {\n",
       "        vertical-align: middle;\n",
       "    }\n",
       "\n",
       "    .dataframe tbody tr th {\n",
       "        vertical-align: top;\n",
       "    }\n",
       "\n",
       "    .dataframe thead th {\n",
       "        text-align: right;\n",
       "    }\n",
       "</style>\n",
       "<table border=\"1\" class=\"dataframe\">\n",
       "  <thead>\n",
       "    <tr style=\"text-align: right;\">\n",
       "      <th></th>\n",
       "      <th>date</th>\n",
       "      <th>quantity</th>\n",
       "      <th>currency</th>\n",
       "      <th>buy</th>\n",
       "      <th>sell</th>\n",
       "    </tr>\n",
       "  </thead>\n",
       "  <tbody>\n",
       "  </tbody>\n",
       "</table>\n",
       "</div>"
      ],
      "text/plain": [
       "Empty DataFrame\n",
       "Columns: [date, quantity, currency, buy, sell]\n",
       "Index: []"
      ]
     },
     "execution_count": 23,
     "metadata": {},
     "output_type": "execute_result"
    }
   ],
   "source": [
    "data = pd.DataFrame(columns = [\"date\",\"quantity\",\"currency\", \"buy\" ,\"sell\"])\n",
    "#data.columns = [\"date\",\"quantity\",\"currency\", \"buy\" ,\"sell\"]\n",
    "data.head()"
   ]
  },
  {
   "cell_type": "code",
   "execution_count": 29,
   "id": "75e0edbc-e7da-4976-88bc-2346501f6bad",
   "metadata": {},
   "outputs": [
    {
     "name": "stdout",
     "output_type": "stream",
     "text": [
      "1\n",
      "2\n",
      "3\n",
      "4\n",
      "5\n",
      "6\n",
      "7\n",
      "8\n",
      "9\n",
      "10\n",
      "11\n",
      "12\n",
      "13\n",
      "14\n",
      "15\n",
      "16\n",
      "17\n",
      "18\n",
      "19\n",
      "20\n",
      "21\n",
      "22\n",
      "23\n",
      "24\n",
      "25\n",
      "26\n"
     ]
    }
   ],
   "source": [
    "data = pd.DataFrame(columns = [\"date\",\"quantity\",\"currency\", \"buy\" ,\"sell\"])\n",
    "i = 0\n",
    "for link in  list_changes :\n",
    "    data = pd.concat([data,get_xrate_day(link)],axis = 0,ignore_index=True)\n",
    "    i += 1\n",
    "    print(i)"
   ]
  },
  {
   "cell_type": "code",
   "execution_count": 36,
   "id": "17c63a1b-d6bc-434f-aa84-aff1b6b9ede0",
   "metadata": {},
   "outputs": [
    {
     "data": {
      "text/html": [
       "<div>\n",
       "<style scoped>\n",
       "    .dataframe tbody tr th:only-of-type {\n",
       "        vertical-align: middle;\n",
       "    }\n",
       "\n",
       "    .dataframe tbody tr th {\n",
       "        vertical-align: top;\n",
       "    }\n",
       "\n",
       "    .dataframe thead th {\n",
       "        text-align: right;\n",
       "    }\n",
       "</style>\n",
       "<table border=\"1\" class=\"dataframe\">\n",
       "  <thead>\n",
       "    <tr style=\"text-align: right;\">\n",
       "      <th></th>\n",
       "      <th>date</th>\n",
       "      <th>quantity</th>\n",
       "      <th>currency</th>\n",
       "      <th>buy</th>\n",
       "      <th>sell</th>\n",
       "    </tr>\n",
       "  </thead>\n",
       "  <tbody>\n",
       "    <tr>\n",
       "      <th>0</th>\n",
       "      <td>28/12/2022</td>\n",
       "      <td>1</td>\n",
       "      <td>EUR</td>\n",
       "      <td>39,03</td>\n",
       "      <td>39,42</td>\n",
       "    </tr>\n",
       "    <tr>\n",
       "      <th>1</th>\n",
       "      <td>28/12/2022</td>\n",
       "      <td>1</td>\n",
       "      <td>USD</td>\n",
       "      <td>36,68</td>\n",
       "      <td>37,05</td>\n",
       "    </tr>\n",
       "    <tr>\n",
       "      <th>2</th>\n",
       "      <td>28/12/2022</td>\n",
       "      <td>1</td>\n",
       "      <td>GBP</td>\n",
       "      <td>44,28</td>\n",
       "      <td>44,72</td>\n",
       "    </tr>\n",
       "    <tr>\n",
       "      <th>3</th>\n",
       "      <td>28/12/2022</td>\n",
       "      <td>100</td>\n",
       "      <td>CHF</td>\n",
       "      <td>3952,8</td>\n",
       "      <td>3992,43</td>\n",
       "    </tr>\n",
       "    <tr>\n",
       "      <th>4</th>\n",
       "      <td>28/12/2022</td>\n",
       "      <td>1</td>\n",
       "      <td>CAD</td>\n",
       "      <td>27,15</td>\n",
       "      <td>27,42</td>\n",
       "    </tr>\n",
       "    <tr>\n",
       "      <th>...</th>\n",
       "      <td>...</td>\n",
       "      <td>...</td>\n",
       "      <td>...</td>\n",
       "      <td>...</td>\n",
       "      <td>...</td>\n",
       "    </tr>\n",
       "    <tr>\n",
       "      <th>359</th>\n",
       "      <td>14/11/2022</td>\n",
       "      <td>100</td>\n",
       "      <td>MAD</td>\n",
       "      <td>351,39</td>\n",
       "      <td>354,91</td>\n",
       "    </tr>\n",
       "    <tr>\n",
       "      <th>360</th>\n",
       "      <td>14/11/2022</td>\n",
       "      <td>1000</td>\n",
       "      <td>JPY</td>\n",
       "      <td>268,3</td>\n",
       "      <td>270,99</td>\n",
       "    </tr>\n",
       "    <tr>\n",
       "      <th>361</th>\n",
       "      <td>14/11/2022</td>\n",
       "      <td>1</td>\n",
       "      <td>TND</td>\n",
       "      <td>12,02</td>\n",
       "      <td>12,14</td>\n",
       "    </tr>\n",
       "    <tr>\n",
       "      <th>362</th>\n",
       "      <td>14/11/2022</td>\n",
       "      <td>1</td>\n",
       "      <td>DZD</td>\n",
       "      <td>0,27</td>\n",
       "      <td>0,27</td>\n",
       "    </tr>\n",
       "    <tr>\n",
       "      <th>363</th>\n",
       "      <td>14/11/2022</td>\n",
       "      <td>1</td>\n",
       "      <td>LYD</td>\n",
       "      <td>7,56</td>\n",
       "      <td>7,64</td>\n",
       "    </tr>\n",
       "  </tbody>\n",
       "</table>\n",
       "<p>364 rows × 5 columns</p>\n",
       "</div>"
      ],
      "text/plain": [
       "           date quantity currency     buy     sell\n",
       "0    28/12/2022        1      EUR   39,03    39,42\n",
       "1    28/12/2022        1      USD   36,68    37,05\n",
       "2    28/12/2022        1      GBP   44,28    44,72\n",
       "3    28/12/2022      100      CHF  3952,8  3992,43\n",
       "4    28/12/2022        1      CAD   27,15    27,42\n",
       "..          ...      ...      ...     ...      ...\n",
       "359  14/11/2022      100      MAD  351,39   354,91\n",
       "360  14/11/2022     1000      JPY   268,3   270,99\n",
       "361  14/11/2022        1      TND   12,02    12,14\n",
       "362  14/11/2022        1      DZD    0,27     0,27\n",
       "363  14/11/2022        1      LYD    7,56     7,64\n",
       "\n",
       "[364 rows x 5 columns]"
      ]
     },
     "execution_count": 36,
     "metadata": {},
     "output_type": "execute_result"
    }
   ],
   "source": [
    "data"
   ]
  },
  {
   "cell_type": "code",
   "execution_count": 35,
   "id": "1aae6106-ece5-42a1-a2f9-05895703e34e",
   "metadata": {},
   "outputs": [
    {
     "name": "stderr",
     "output_type": "stream",
     "text": [
      "C:\\Users\\pro\\AppData\\Roaming\\jupyterlab-desktop\\jlab_server\\lib\\site-packages\\pandas\\core\\apply.py:1143: UserWarning: Parsing '28/12/2022' in DD/MM/YYYY format. Provide format or specify infer_datetime_format=True for consistent parsing.\n",
      "  mapped = lib.map_infer(\n",
      "C:\\Users\\pro\\AppData\\Roaming\\jupyterlab-desktop\\jlab_server\\lib\\site-packages\\pandas\\core\\apply.py:1143: UserWarning: Parsing '27/12/2022' in DD/MM/YYYY format. Provide format or specify infer_datetime_format=True for consistent parsing.\n",
      "  mapped = lib.map_infer(\n",
      "C:\\Users\\pro\\AppData\\Roaming\\jupyterlab-desktop\\jlab_server\\lib\\site-packages\\pandas\\core\\apply.py:1143: UserWarning: Parsing '26/12/2022' in DD/MM/YYYY format. Provide format or specify infer_datetime_format=True for consistent parsing.\n",
      "  mapped = lib.map_infer(\n",
      "C:\\Users\\pro\\AppData\\Roaming\\jupyterlab-desktop\\jlab_server\\lib\\site-packages\\pandas\\core\\apply.py:1143: UserWarning: Parsing '22/12/2022' in DD/MM/YYYY format. Provide format or specify infer_datetime_format=True for consistent parsing.\n",
      "  mapped = lib.map_infer(\n",
      "C:\\Users\\pro\\AppData\\Roaming\\jupyterlab-desktop\\jlab_server\\lib\\site-packages\\pandas\\core\\apply.py:1143: UserWarning: Parsing '21/12/2022' in DD/MM/YYYY format. Provide format or specify infer_datetime_format=True for consistent parsing.\n",
      "  mapped = lib.map_infer(\n",
      "C:\\Users\\pro\\AppData\\Roaming\\jupyterlab-desktop\\jlab_server\\lib\\site-packages\\pandas\\core\\apply.py:1143: UserWarning: Parsing '20/12/2022' in DD/MM/YYYY format. Provide format or specify infer_datetime_format=True for consistent parsing.\n",
      "  mapped = lib.map_infer(\n",
      "C:\\Users\\pro\\AppData\\Roaming\\jupyterlab-desktop\\jlab_server\\lib\\site-packages\\pandas\\core\\apply.py:1143: UserWarning: Parsing '19/12/2022' in DD/MM/YYYY format. Provide format or specify infer_datetime_format=True for consistent parsing.\n",
      "  mapped = lib.map_infer(\n",
      "C:\\Users\\pro\\AppData\\Roaming\\jupyterlab-desktop\\jlab_server\\lib\\site-packages\\pandas\\core\\apply.py:1143: UserWarning: Parsing '15/12/2022' in DD/MM/YYYY format. Provide format or specify infer_datetime_format=True for consistent parsing.\n",
      "  mapped = lib.map_infer(\n",
      "C:\\Users\\pro\\AppData\\Roaming\\jupyterlab-desktop\\jlab_server\\lib\\site-packages\\pandas\\core\\apply.py:1143: UserWarning: Parsing '14/12/2022' in DD/MM/YYYY format. Provide format or specify infer_datetime_format=True for consistent parsing.\n",
      "  mapped = lib.map_infer(\n",
      "C:\\Users\\pro\\AppData\\Roaming\\jupyterlab-desktop\\jlab_server\\lib\\site-packages\\pandas\\core\\apply.py:1143: UserWarning: Parsing '13/12/2022' in DD/MM/YYYY format. Provide format or specify infer_datetime_format=True for consistent parsing.\n",
      "  mapped = lib.map_infer(\n",
      "C:\\Users\\pro\\AppData\\Roaming\\jupyterlab-desktop\\jlab_server\\lib\\site-packages\\pandas\\core\\apply.py:1143: UserWarning: Parsing '30/11/2022' in DD/MM/YYYY format. Provide format or specify infer_datetime_format=True for consistent parsing.\n",
      "  mapped = lib.map_infer(\n",
      "C:\\Users\\pro\\AppData\\Roaming\\jupyterlab-desktop\\jlab_server\\lib\\site-packages\\pandas\\core\\apply.py:1143: UserWarning: Parsing '29/11/2022' in DD/MM/YYYY format. Provide format or specify infer_datetime_format=True for consistent parsing.\n",
      "  mapped = lib.map_infer(\n",
      "C:\\Users\\pro\\AppData\\Roaming\\jupyterlab-desktop\\jlab_server\\lib\\site-packages\\pandas\\core\\apply.py:1143: UserWarning: Parsing '24/11/2022' in DD/MM/YYYY format. Provide format or specify infer_datetime_format=True for consistent parsing.\n",
      "  mapped = lib.map_infer(\n",
      "C:\\Users\\pro\\AppData\\Roaming\\jupyterlab-desktop\\jlab_server\\lib\\site-packages\\pandas\\core\\apply.py:1143: UserWarning: Parsing '23/11/2022' in DD/MM/YYYY format. Provide format or specify infer_datetime_format=True for consistent parsing.\n",
      "  mapped = lib.map_infer(\n",
      "C:\\Users\\pro\\AppData\\Roaming\\jupyterlab-desktop\\jlab_server\\lib\\site-packages\\pandas\\core\\apply.py:1143: UserWarning: Parsing '22/11/2022' in DD/MM/YYYY format. Provide format or specify infer_datetime_format=True for consistent parsing.\n",
      "  mapped = lib.map_infer(\n",
      "C:\\Users\\pro\\AppData\\Roaming\\jupyterlab-desktop\\jlab_server\\lib\\site-packages\\pandas\\core\\apply.py:1143: UserWarning: Parsing '21/11/2022' in DD/MM/YYYY format. Provide format or specify infer_datetime_format=True for consistent parsing.\n",
      "  mapped = lib.map_infer(\n",
      "C:\\Users\\pro\\AppData\\Roaming\\jupyterlab-desktop\\jlab_server\\lib\\site-packages\\pandas\\core\\apply.py:1143: UserWarning: Parsing '17/11/2022' in DD/MM/YYYY format. Provide format or specify infer_datetime_format=True for consistent parsing.\n",
      "  mapped = lib.map_infer(\n",
      "C:\\Users\\pro\\AppData\\Roaming\\jupyterlab-desktop\\jlab_server\\lib\\site-packages\\pandas\\core\\apply.py:1143: UserWarning: Parsing '16/11/2022' in DD/MM/YYYY format. Provide format or specify infer_datetime_format=True for consistent parsing.\n",
      "  mapped = lib.map_infer(\n",
      "C:\\Users\\pro\\AppData\\Roaming\\jupyterlab-desktop\\jlab_server\\lib\\site-packages\\pandas\\core\\apply.py:1143: UserWarning: Parsing '15/11/2022' in DD/MM/YYYY format. Provide format or specify infer_datetime_format=True for consistent parsing.\n",
      "  mapped = lib.map_infer(\n",
      "C:\\Users\\pro\\AppData\\Roaming\\jupyterlab-desktop\\jlab_server\\lib\\site-packages\\pandas\\core\\apply.py:1143: UserWarning: Parsing '14/11/2022' in DD/MM/YYYY format. Provide format or specify infer_datetime_format=True for consistent parsing.\n",
      "  mapped = lib.map_infer(\n"
     ]
    },
    {
     "data": {
      "text/plain": [
       "0     2022-12-28\n",
       "1     2022-12-28\n",
       "2     2022-12-28\n",
       "3     2022-12-28\n",
       "4     2022-12-28\n",
       "         ...    \n",
       "359   2022-11-14\n",
       "360   2022-11-14\n",
       "361   2022-11-14\n",
       "362   2022-11-14\n",
       "363   2022-11-14\n",
       "Name: date, Length: 364, dtype: datetime64[ns]"
      ]
     },
     "execution_count": 35,
     "metadata": {},
     "output_type": "execute_result"
    }
   ],
   "source": [
    "data[\"date\"].apply(pd.to_datetime)"
   ]
  },
  {
   "cell_type": "code",
   "execution_count": 37,
   "id": "8f2abc90-214e-40b7-9b87-d66be298347d",
   "metadata": {},
   "outputs": [],
   "source": [
    "import seaborn as sns"
   ]
  },
  {
   "cell_type": "code",
   "execution_count": 38,
   "id": "55c04052-edc9-4a26-8a3d-0a9e05f73674",
   "metadata": {},
   "outputs": [],
   "source": [
    "data_usd = data[data[\"currency\"]== 'USD']"
   ]
  },
  {
   "cell_type": "code",
   "execution_count": 39,
   "id": "5d5a46f3-7389-4902-a5a4-e5917e20d818",
   "metadata": {},
   "outputs": [
    {
     "data": {
      "text/plain": [
       "<AxesSubplot:xlabel='date', ylabel='buy'>"
      ]
     },
     "execution_count": 39,
     "metadata": {},
     "output_type": "execute_result"
    },
    {
     "data": {
      "image/png": "[encoded data removed]",
      "text/plain": [
       "<Figure size 640x480 with 1 Axes>"
      ]
     },
     "metadata": {},
     "output_type": "display_data"
    }
   ],
   "source": [
    "sns.lineplot(x = \"date\", y = \"buy\",\n",
    "             data = data_usd)"
   ]
  },
  {
   "cell_type": "code",
   "execution_count": 41,
   "id": "552fc9b3-8930-430f-a8ba-91fb8f73a712",
   "metadata": {},
   "outputs": [
    {
     "data": {
      "text/plain": [
       "<AxesSubplot:xlabel='date', ylabel='sell'>"
      ]
     },
     "execution_count": 41,
     "metadata": {},
     "output_type": "execute_result"
    },
    {
     "data": {
      "image/png": "[encoded data removed]",
      "text/plain": [
       "<Figure size 640x480 with 1 Axes>"
      ]
     },
     "metadata": {},
     "output_type": "display_data"
    }
   ],
   "source": [
    "sns.lineplot(x = \"date\", y = \"sell\",\n",
    "             data = data_usd)"
   ]
  }
 ],
 "metadata": {
  "kernelspec": {
   "display_name": "Python 3 (ipykernel)",
   "language": "python",
   "name": "python3"
  },
  "language_info": {
   "codemirror_mode": {
    "name": "ipython",
    "version": 3
   },
   "file_extension": ".py",
   "mimetype": "text/x-python",
   "name": "python",
   "nbconvert_exporter": "python",
   "pygments_lexer": "ipython3",
   "version": "3.8.13"
  },
  "vscode": {
   "interpreter": {
    "hash": "26de051ba29f2982a8de78e945f0abaf191376122a1563185a90213a26c5da77"
   }
  }
 },
 "nbformat": 4,
 "nbformat_minor": 5
}
